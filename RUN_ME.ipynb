{
 "cells": [
  {
   "cell_type": "markdown",
   "metadata": {},
   "source": [
    "# Animal Crossing New Horizons Critter Checklist and Updater\n",
    "Critterpedia creates a filtered list of fish and/or insects available based on user input month. Adding the word \"new\" to the month input will further filter to only critters that *are* available in the listed month, but were *not* available in the previous month. Add the the word \"end\" to the month input will show things available this month, but *not* next month. If a question is repeated, that means the input is not valid."
   ]
  },
  {
   "cell_type": "code",
   "execution_count": null,
   "metadata": {},
   "outputs": [
    {
     "name": "stdout",
     "output_type": "stream",
     "text": [
      "Fish, Insects, or Both? \n",
      "both\n",
      "Show already donated critters? \n",
      "no\n",
      "What month? Specify new or ending critters?\n",
      "april\n",
      "Available now or any time of day? \n"
     ]
    }
   ],
   "source": [
    "import Critterpedia\n",
    "%run Critterpedia"
   ]
  },
  {
   "cell_type": "markdown",
   "metadata": {},
   "source": [
    "The following program (critterupdate) is used to mark off which critters have been already donated to the museum, which can then be used to further filter the critterpedia list, if you want to only see what has not yet been caught."
   ]
  },
  {
   "cell_type": "code",
   "execution_count": 6,
   "metadata": {},
   "outputs": [
    {
     "name": "stdout",
     "output_type": "stream",
     "text": [
      "What critter? \n",
      "no\n",
      "Is it a fish or a bug? \n",
      "no\n",
      "Sorry couldn't find that critter. Look for a different term? \n",
      "no\n"
     ]
    }
   ],
   "source": [
    "import critterupdate\n",
    "%run critterupdate"
   ]
  },
  {
   "cell_type": "markdown",
   "metadata": {},
   "source": [
    "Run the following if you want to search for a specific critter (or a narrow list based only on the *name* of the critters in question."
   ]
  },
  {
   "cell_type": "code",
   "execution_count": 9,
   "metadata": {},
   "outputs": [
    {
     "name": "stdout",
     "output_type": "stream",
     "text": [
      "Search for bug or fish?\n",
      "no\n"
     ]
    }
   ],
   "source": [
    "import crittersearch\n",
    "%run crittersearch"
   ]
  },
  {
   "cell_type": "markdown",
   "metadata": {},
   "source": [
    "Run the following if you find an error in an entry, this program can also be used to uncheck something that was incorrectly marked as donated. A repeated entry means the input is invalid. Enter \"nvm\" or \"cancel\" in any input to immediately end this program."
   ]
  },
  {
   "cell_type": "code",
   "execution_count": 8,
   "metadata": {},
   "outputs": [
    {
     "name": "stdout",
     "output_type": "stream",
     "text": [
      "\n",
      "Do you need to fix a bug entry or a fish entry? \n",
      "nvm\n"
     ]
    }
   ],
   "source": [
    "import fixacritter\n",
    "%run fixacritter"
   ]
  },
  {
   "cell_type": "markdown",
   "metadata": {},
   "source": [
    "End of program list."
   ]
  }
 ],
 "metadata": {
  "kernelspec": {
   "display_name": "Python 3",
   "language": "python",
   "name": "python3"
  },
  "language_info": {
   "codemirror_mode": {
    "name": "ipython",
    "version": 3
   },
   "file_extension": ".py",
   "mimetype": "text/x-python",
   "name": "python",
   "nbconvert_exporter": "python",
   "pygments_lexer": "ipython3",
   "version": "3.6.9"
  }
 },
 "nbformat": 4,
 "nbformat_minor": 2
}
