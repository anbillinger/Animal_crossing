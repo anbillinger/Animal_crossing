{
 "cells": [
  {
   "cell_type": "markdown",
   "metadata": {},
   "source": [
    "# Animal Crossing New Horizons Critter Checklist and Updater<p>\n",
    "WARNING: because of waiting for inputs, if any code starts to execute before another ends, it will freeze the system. Highlight the problem cell, go to the kernel menu, and choose \"restart\" to end the program, the \"stop\" button is not enough.<p><p>\n",
    "Critterpedia creates a filtered list of fish and/or insects available based on user input month. Adding the word \"new\" to the month input will further filter to only critters that *are* available in the listed month, but were *not* available in the previous month. Add the the word \"end\" to the month input will show things available this month, but *not* next month. If a question is repeated, that means the input is not valid.<p><p>\n",
    "Note: options for further filters are: value for any type, or size and/or location for fish.\n"
   ]
  },
  {
   "cell_type": "code",
   "execution_count": null,
   "metadata": {},
   "outputs": [],
   "source": [
    "import Critterpedia\n",
    "%run Critterpedia"
   ]
  },
  {
   "cell_type": "markdown",
   "metadata": {},
   "source": [
    "<p><p>The following program (critterupdate) is used to mark off which critters have been already donated to the museum, which can then be used to further filter the critterpedia list, if you want to only see what has not yet been caught. Enter the name of the critter to quickly update, and if that doesn't work, it will switch to a search function. Search is useful if you don't know the name of the critter, or if there's misspelling/unexpected punctuation in the spreadsheet."
   ]
  },
  {
   "cell_type": "code",
   "execution_count": null,
   "metadata": {},
   "outputs": [],
   "source": [
    "import critterupdate\n",
    "%run critterupdate"
   ]
  },
  {
   "cell_type": "markdown",
   "metadata": {},
   "source": [
    "Run the following if you want to search for a specific critter (or a narrow list based only on the *name* of the critters in question.)"
   ]
  },
  {
   "cell_type": "code",
   "execution_count": null,
   "metadata": {},
   "outputs": [],
   "source": [
    "import crittersearch\n",
    "%run crittersearch"
   ]
  },
  {
   "cell_type": "markdown",
   "metadata": {},
   "source": [
    "Run the following if you find an error in an entry, this program can also be used to uncheck something that was incorrectly marked as donated. A repeated entry means the input is invalid. Enter \"nvm\" or \"cancel\" in any input to immediately end this program."
   ]
  },
  {
   "cell_type": "code",
   "execution_count": null,
   "metadata": {},
   "outputs": [],
   "source": [
    "import fixacritter\n",
    "%run fixacritter"
   ]
  },
  {
   "cell_type": "markdown",
   "metadata": {},
   "source": [
    "End of program list."
   ]
  }
 ],
 "metadata": {
  "kernelspec": {
   "display_name": "Python 3",
   "language": "python",
   "name": "python3"
  },
  "language_info": {
   "codemirror_mode": {
    "name": "ipython",
    "version": 3
   },
   "file_extension": ".py",
   "mimetype": "text/x-python",
   "name": "python",
   "nbconvert_exporter": "python",
   "pygments_lexer": "ipython3",
   "version": "3.6.9"
  }
 },
 "nbformat": 4,
 "nbformat_minor": 2
}
