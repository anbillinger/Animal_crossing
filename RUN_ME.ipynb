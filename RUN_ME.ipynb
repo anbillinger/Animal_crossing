{
 "cells": [
  {
   "cell_type": "markdown",
   "metadata": {},
   "source": [
    "# Animal Crossing New Horizons Critter Checklist and Updater\n",
    "Critterpedia creates a filtered list of fish and/or insects available based on user input month. Adding the word \"new\" to the month input will further filter to only critters that *are* available in the listed month, but were *not* available in the previous month. Add the the word \"end\" to the month input will show things available this month, but *not* next month. If a question is repeated, that means the input is not valid."
   ]
  },
  {
   "cell_type": "code",
   "execution_count": 1,
   "metadata": {},
   "outputs": [
    {
     "name": "stdout",
     "output_type": "stream",
     "text": [
      "Fish, Insects, or Both? \n",
      "fish\n",
      "Show already donated critters? \n",
      "no\n",
      "What month? Specify new or ending critters?\n",
      "april\n",
      "Available now or any time of day? \n",
      "any\n",
      "\n",
      "\n",
      "Fish:\n",
      "Name             \tLocation        \tSize    \tTime           \tValue\n",
      "Pale Chub        \tRiver           \tSmallest\t9 a.m. - 4 p.m.\t160\n",
      "Crucian Carp     \tRiver           \tSmall   \tAll day        \t160\n",
      "Dace             \tRiver           \tMedium  \t4 p.m. - 9 a.m.\t240\n",
      "Carp             \tPond            \tLarge   \tAll day        \t300\n",
      "Koi              \tPond            \tLarge   \t4 p.m. - 9 a.m.\t4000\n",
      "Goldfish         \tPond            \tSmallest\tAll day        \t1300\n",
      "Pop-eyed Goldfish\tPond            \tSmallest\t9 a.m. - 4 p.m.\t1300\n",
      "Ranchu Goldfish  \tPond            \tSmall   \t9 a.m. - 4 p.m.\t4500\n",
      "Killifish        \tPond            \tSmallest\tAll day        \t300\n",
      "Crawfish         \tPond            \tMedium  \tAll day        \t200\n",
      "Snapping Turtle  \tRiver           \tX Large \t9 p.m. - 4 a.m.\t5000\n",
      "Tadpole          \tPond            \tSmallest\tAll day        \t100\n",
      "Freshwater Goby  \tRiver           \tSmall   \t4 p.m. - 9 a.m.\t400\n",
      "Loach            \tRiver           \tSmall   \tAll day        \t400\n",
      "Bluegill         \tRiver           \tSmall   \t9 a.m. - 4 p.m.\t180\n",
      "Black Bass       \tRiver           \tLarge   \tAll day        \t400\n",
      "Cherry Salmon    \tRiver           \tMedium  \t4 p.m. - 9 a.m.\t1000\n",
      "Char             \tRiver/Pond      \tMedium  \t4 p.m. - 9 a.m.\t3800\n",
      "Golden Trout     \tRiver (Clifftop)\tLarge   \t4 p.m. - 9 a.m.\t15000\n",
      "Guppy            \tRiver           \tSmallest\t9 a.m. - 4 p.m.\t1300\n",
      "Neon Tetra       \tRiver           \tSmallest\t9 a.m. - 4 p.m.\t500\n",
      "Sea Horse        \tSea             \tSmallest\tAll day        \t1100\n",
      "Clown Fish       \tSea             \tSmallest\tAll day        \t650\n",
      "Surgeonfish      \tSea             \tSmall   \tAll day        \t1000\n",
      "Butterfly Fish   \tSea             \tSmall   \tAll day        \t1000\n",
      "Zebra Turkeyfish \tSea             \tMedium  \tAll day        \t500\n",
      "Anchovy          \tSea             \tSmall   \t4 a.m. - 9 p.m.\t200\n",
      "Horse Mackerel   \tSea             \tSmall   \tAll day        \t150\n",
      "Barred Knifejaw  \tSea             \tMedium  \tAll day        \t5000\n",
      "Sea Bass         \tSea             \tX Large \tAll day        \t400\n",
      "Red Snapper      \tSea             \tLarge   \tAll day        \t3000\n",
      "Dab              \tSea             \tMedium  \tAll day        \t300\n",
      "Olive Flounder   \tSea             \tLarge   \tAll day        \t800\n",
      "Squid            \tSea             \tMedium  \tAll day        \t500\n",
      "Tuna             \tPier            \tX Large \tAll day        \t7000\n",
      "Blue Marlin      \tPier            \tX Large \tAll day        \t10000\n",
      "Oarfish          \tSea             \tLargest \tAll day        \t9000\n",
      "Barreleye        \tSea             \tSmall   \t9 p.m. - 4 a.m.\t15000\n",
      "Coelacanth       \tSea (rainy days)\tLargest \tAll day        \t15000\n"
     ]
    }
   ],
   "source": [
    "import Critterpedia"
   ]
  },
  {
   "cell_type": "markdown",
   "metadata": {},
   "source": [
    "The following program (critterupdate) is used to mark off which critters have been already donated to the museum, which can then be used to further filter the critterpedia list, if you want to only see what has not yet been caught."
   ]
  },
  {
   "cell_type": "code",
   "execution_count": 6,
   "metadata": {},
   "outputs": [
    {
     "name": "stdout",
     "output_type": "stream",
     "text": [
      "What critter? \n",
      "no\n",
      "Is it a fish or a bug? \n",
      "no\n",
      "Sorry couldn't find that critter. Look for a different term? \n",
      "no\n"
     ]
    }
   ],
   "source": [
    "import critterupdate\n",
    "%run critterupdate"
   ]
  },
  {
   "cell_type": "markdown",
   "metadata": {},
   "source": [
    "Run the following if you want to search for a specific critter (or a narrow list based only on the *name* of the critters in question."
   ]
  },
  {
   "cell_type": "code",
   "execution_count": 3,
   "metadata": {},
   "outputs": [
    {
     "name": "stdout",
     "output_type": "stream",
     "text": [
      "Search for bug or fish?\n",
      "no\n"
     ]
    }
   ],
   "source": [
    "import crittersearch"
   ]
  },
  {
   "cell_type": "markdown",
   "metadata": {},
   "source": [
    "Run the following if you find an error in an entry, this program can also be used to uncheck something that was incorrectly marked as donated. A repeated ent"
   ]
  },
  {
   "cell_type": "code",
   "execution_count": 8,
   "metadata": {},
   "outputs": [
    {
     "name": "stdout",
     "output_type": "stream",
     "text": [
      "\n",
      "Do you need to fix a bug entry or a fish entry? \n",
      "nvm\n"
     ]
    }
   ],
   "source": [
    "import fixacritter\n",
    "%run fixacritter"
   ]
  },
  {
   "cell_type": "markdown",
   "metadata": {},
   "source": [
    "End of program list."
   ]
  }
 ],
 "metadata": {
  "kernelspec": {
   "display_name": "Python 3",
   "language": "python",
   "name": "python3"
  },
  "language_info": {
   "codemirror_mode": {
    "name": "ipython",
    "version": 3
   },
   "file_extension": ".py",
   "mimetype": "text/x-python",
   "name": "python",
   "nbconvert_exporter": "python",
   "pygments_lexer": "ipython3",
   "version": "3.6.9"
  }
 },
 "nbformat": 4,
 "nbformat_minor": 2
}
