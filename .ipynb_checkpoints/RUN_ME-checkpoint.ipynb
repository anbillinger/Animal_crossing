{
 "cells": [
  {
   "cell_type": "markdown",
   "metadata": {},
   "source": [
    "# Animal Crossing New Horizons Critter Checklist and Updater<p>\n",
    "WARNING: because of waiting for inputs, if any code starts to execute before another ends, it will freeze the system. Highlight the problem cell, go to the kernel menu, and choose \"restart\" to end the program, the \"stop\" button is not enough.<p><p>\n",
    "Critterpedia creates a filtered list of fish and/or insects available based on month and other specified filters. Enter \"help\" in first prompt for list of options and how to activate them.\n",
    "<p>\n",
    "Note: While the help menu mentions size, location, and ending this month options, those filters are not yet implemented.\n"
   ]
  },
  {
   "cell_type": "code",
   "execution_count": null,
   "metadata": {
    "scrolled": false
   },
   "outputs": [],
   "source": [
    "import critterpedia\n",
    "%run critterpedia"
   ]
  },
  {
   "cell_type": "markdown",
   "metadata": {},
   "source": [
    "<p><p>The following program (critterupdate) is used to mark off which critters have been already donated to the museum, which can then be used to further filter the critterpedia list, if you want to only see what has not yet been caught. Enter the names of all critters to add, separated by commas. Any misspelling or punctuation* will prompt a search, so perfection is not required, but makes it faster. <p>*Punctation often is treated as different based on the source of the string, which makes exact recognition difficult.\n",
    "<p>\n",
    "To bulk update, you can get a formated string from the critterpedia program, which can be copy pasted into the critterupdate prompt. To get this list, run critterpedia and add \"names\" in the filter prompt box."
   ]
  },
  {
   "cell_type": "code",
   "execution_count": null,
   "metadata": {},
   "outputs": [],
   "source": [
    "import critterupdate\n",
    "%run critterupdate"
   ]
  },
  {
   "cell_type": "markdown",
   "metadata": {},
   "source": [
    "<p></p>"
   ]
  }
 ],
 "metadata": {
  "kernelspec": {
   "display_name": "Python 3",
   "language": "python",
   "name": "python3"
  },
  "language_info": {
   "codemirror_mode": {
    "name": "ipython",
    "version": 3
   },
   "file_extension": ".py",
   "mimetype": "text/x-python",
   "name": "python",
   "nbconvert_exporter": "python",
   "pygments_lexer": "ipython3",
   "version": "3.6.9"
  }
 },
 "nbformat": 4,
 "nbformat_minor": 2
}
